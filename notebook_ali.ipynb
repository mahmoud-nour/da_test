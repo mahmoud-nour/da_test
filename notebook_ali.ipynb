{
 "cells": [
  {
   "cell_type": "markdown",
   "id": "9bb8950e",
   "metadata": {},
   "source": [
    "# My Jupyter Notebook on IBM Watson Studio"
   ]
  },
  {
   "cell_type": "markdown",
   "id": "a05799ef",
   "metadata": {},
   "source": [
    "**M N**\n",
    "\n",
    "**learner**"
   ]
  },
  {
   "cell_type": "markdown",
   "id": "e7065c98",
   "metadata": {},
   "source": [
    "*I am interested in data science to open up a new future*"
   ]
  },
  {
   "cell_type": "markdown",
   "id": "02424b84",
   "metadata": {},
   "source": [
    "### summation"
   ]
  },
  {
   "cell_type": "code",
   "execution_count": 4,
   "id": "6b6acc66",
   "metadata": {},
   "outputs": [
    {
     "data": {
      "text/plain": [
       "6"
      ]
     },
     "execution_count": 4,
     "metadata": {},
     "output_type": "execute_result"
    }
   ],
   "source": [
    "1+5"
   ]
  },
  {
   "cell_type": "markdown",
   "id": "1fa8b28b",
   "metadata": {},
   "source": [
    "| cell1 | cell2 |\n",
    "| ----- |-----|\n",
    "| val1 | val2 |\n",
    "\n",
    "www.google.com\n",
    "\n",
    "* bullet1\n",
    "* bullet2"
   ]
  }
 ],
 "metadata": {
  "kernelspec": {
   "display_name": "Python 3 (ipykernel)",
   "language": "python",
   "name": "python3"
  },
  "language_info": {
   "codemirror_mode": {
    "name": "ipython",
    "version": 3
   },
   "file_extension": ".py",
   "mimetype": "text/x-python",
   "name": "python",
   "nbconvert_exporter": "python",
   "pygments_lexer": "ipython3",
   "version": "3.9.7"
  }
 },
 "nbformat": 4,
 "nbformat_minor": 5
}
